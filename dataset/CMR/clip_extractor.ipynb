{
 "cells": [
  {
   "cell_type": "code",
   "execution_count": 2,
   "metadata": {},
   "outputs": [],
   "source": [
    "import torch\n",
    "import clip\n",
    "import numpy as np\n",
    "\n",
    "# Load the pre-trained CLIP model\n",
    "device = \"cuda\" if torch.cuda.is_available() else \"cpu\"\n",
    "model, preprocess = clip.load(\"ViT-B/32\", device=device)"
   ]
  },
  {
   "cell_type": "code",
   "execution_count": 3,
   "metadata": {},
   "outputs": [
    {
     "name": "stdout",
     "output_type": "stream",
     "text": [
      "torch.Size([1, 77])\n",
      "torch.Size([1, 512])\n"
     ]
    }
   ],
   "source": [
    "import os\n",
    "text_choices = [\"lax\"] # \"sax\"\n",
    "\n",
    "# Process the texts to compute embeddings\n",
    "text_tokens = clip.tokenize(text_choices).to(device)\n",
    "print(text_tokens.shape)\n",
    "with torch.no_grad():\n",
    "    text_embeddings = model.encode_text(text_tokens)\n",
    "print(text_embeddings.shape)\n",
    "\n",
    "# turn text_embeddings into numpy\n",
    "text_embeddings = text_embeddings.cpu().numpy()\n",
    "\n",
    "# save it into a numpy file\n",
    "np.save(os.path.join('/mnt/camca_NAS/SAM_for_CMR/data/text_prompt_clip/', text_choices[0] + '.npy'), text_embeddings)\n"
   ]
  },
  {
   "cell_type": "code",
   "execution_count": null,
   "metadata": {},
   "outputs": [],
   "source": []
  }
 ],
 "metadata": {
  "kernelspec": {
   "display_name": "Python 3",
   "language": "python",
   "name": "python3"
  },
  "language_info": {
   "codemirror_mode": {
    "name": "ipython",
    "version": 3
   },
   "file_extension": ".py",
   "mimetype": "text/x-python",
   "name": "python",
   "nbconvert_exporter": "python",
   "pygments_lexer": "ipython3",
   "version": "3.8.17"
  }
 },
 "nbformat": 4,
 "nbformat_minor": 2
}
